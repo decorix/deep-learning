{
 "cells": [
  {
   "cell_type": "code",
   "execution_count": 1,
   "metadata": {},
   "outputs": [
    {
     "name": "stdout",
     "output_type": "stream",
     "text": [
      "0.85\n"
     ]
    }
   ],
   "source": [
    "# Пример создания простой нейронной сети (один вход)\n",
    "weight = 0.1\n",
    "\n",
    "def neural_network(input, weight):\n",
    "    predict = input * weight\n",
    "    return predict\n",
    "\n",
    "number_of_toes = [8.5, 9.5, 10, 9]\n",
    "input = number_of_toes[0]\n",
    "pred = neural_network(input, weight)\n",
    "print(round(pred, 2))"
   ]
  },
  {
   "cell_type": "code",
   "execution_count": null,
   "metadata": {},
   "outputs": [],
   "source": [
    "# Нейронная сеть с тремя входами (признаками, параметрами)\n",
    "weight = [0.1, 0.2, 0]\n",
    "\n",
    "def neural_network(input, weight):\n",
    "    assert(len(input) == len(weight))\n",
    "    total_predict = 0\n",
    "    for i in range(len(input)):\n",
    "        total_predict += input[i] * weight[i]\n",
    "    return total_predict\n",
    "\n",
    "def elementwise_multiplication(vec_a, vec_b):\n",
    "    return vec_a[0] * vec_b[0] + vec_a[1] * vec_b[1] + vec_a[2] * vec_b[2]\n",
    "    \n",
    "def elementwise_addition(vec_a, vec_b):\n",
    "    return vec_a[0] + vec_b[0] + vec_a[1] + vec_b[1] + vec_a[2] + vec_b[2]\n",
    "    \n",
    "toes = [8.5, 9.5, 9.9, 9]\n",
    "wlrec = [0.65, 0.8, 0.8, 0.9]\n",
    "nfans = [1.2, 1.3, 0.5, 1]\n",
    "\n",
    "input = [toes[0], wlrec[0], nfans[0]]\n",
    "pred = neural_network(input, weight)\n",
    "pred2 = elementwise_multiplication(input, weight)\n",
    "pred3 = elementwise_addition(input, weight)\n",
    "\n",
    "print(round(pred, 2))\n",
    "print(pred2)\n",
    "print(pred3)"
   ]
  },
  {
   "cell_type": "code",
   "execution_count": 3,
   "metadata": {},
   "outputs": [
    {
     "name": "stdout",
     "output_type": "stream",
     "text": [
      "0.98\n",
      "1.11\n",
      "1.15\n",
      "1.08\n"
     ]
    }
   ],
   "source": [
    "import numpy as np\n",
    "\n",
    "weights = np.array([0.1, 0.2, 0])\n",
    "\n",
    "def neural_network(input, weights):\n",
    "    pred = input.dot(weights)\n",
    "    return pred\n",
    "\n",
    "toes = np.array([8.5, 9.5, 9.9, 9])\n",
    "wlrec = np.array([0.65, 0.8, 0.8, 0.9])\n",
    "nfans = np.array([1.2, 1.3, 0.5, 1])\n",
    "\n",
    "assert(len(toes) == len(wlrec) == len(nfans))\n",
    "\n",
    "for i in range(len(toes)):\n",
    "    input = np.array([toes[i], wlrec[i], nfans[i]])\n",
    "    predict = neural_network(input, weights)\n",
    "    print(round(predict,2))"
   ]
  },
  {
   "cell_type": "code",
   "execution_count": null,
   "metadata": {},
   "outputs": [],
   "source": [
    "import numpy as np\n",
    "\n",
    "weights = np.array([0.3, 0.2, 0.9])\n",
    "\n",
    "def ele_mul(input, weights):\n",
    "    output = []\n",
    "    for i in range(len(weights)):\n",
    "        output.append(input * weights[i])\n",
    "    return output\n",
    "\n",
    "def neural_networks(input, weights):\n",
    "    return ele_mul(input, weights)\n",
    "\n",
    "wlrec = np.array([0.65, 0.8, 0.8, 0.9])\n",
    "predict = neural_networks(wlrec[0], weights)\n",
    "print(*predict, sep='\\n')"
   ]
  },
  {
   "cell_type": "code",
   "execution_count": null,
   "metadata": {},
   "outputs": [],
   "source": [
    "# Прогнозирование с несколькими входами и выходами\n",
    "import numpy as np\n",
    "\n",
    "weights = np.array([[0.1, 0.1, -0.3],\n",
    "                    [0.1, 0.2, 0],\n",
    "                    [0, 1.3, 0.1]])\n",
    "\n",
    "def w_sum(a, b):\n",
    "    assert(len(a) == len(b))\n",
    "    output = 0\n",
    "    \n",
    "    for i in range(len(a)):\n",
    "        output += a[i] * b[i]\n",
    "\n",
    "    return output\n",
    "\n",
    "def vect_mat_mul(vect, matrix):\n",
    "    assert(len(input) == len(weights))\n",
    "    output = []\n",
    "\n",
    "    for i in range(len(vect)):\n",
    "        output.append(w_sum(vect, matrix[i]))\n",
    "    \n",
    "    return output\n",
    "\n",
    "\n",
    "def neural_networks(input, weights):\n",
    "    pred = vect_mat_mul(input, weights)\n",
    "    return pred\n",
    "    \n",
    "toes = np.array([8.5, 9.5, 9.9, 9])\n",
    "wlrec = np.array([0.65, 0.8, 0.8, 0.9])\n",
    "nfans = np.array([1.2, 1.3, 0.5, 1])\n",
    "\n",
    "assert(len(toes) == len(wlrec) == len(nfans))\n",
    "\n",
    "for i in range(len(toes)):\n",
    "    input = [toes[i], wlrec[i], nfans[i]]\n",
    "    predict = neural_networks(input, weights)\n",
    "    print(*predict)"
   ]
  }
 ],
 "metadata": {
  "kernelspec": {
   "display_name": "Python 3",
   "language": "python",
   "name": "python3"
  },
  "language_info": {
   "codemirror_mode": {
    "name": "ipython",
    "version": 3
   },
   "file_extension": ".py",
   "mimetype": "text/x-python",
   "name": "python",
   "nbconvert_exporter": "python",
   "pygments_lexer": "ipython3",
   "version": "3.9.7"
  }
 },
 "nbformat": 4,
 "nbformat_minor": 2
}
